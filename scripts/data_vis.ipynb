{
 "cells": [
  {
   "cell_type": "code",
   "execution_count": 86,
   "metadata": {},
   "outputs": [],
   "source": [
    "import pandas as pd\n",
    "import numpy as np\n",
    "import matplotlib.pyplot as plt\n",
    "import seaborn as sns\n",
    "import json\n",
    "%matplotlib inline\n"
   ]
  },
  {
   "cell_type": "code",
   "execution_count": 82,
   "metadata": {},
   "outputs": [],
   "source": [
    "players = pd.read_json('players_statistics.json')"
   ]
  },
  {
   "cell_type": "code",
   "execution_count": 83,
   "metadata": {},
   "outputs": [
    {
     "name": "stdout",
     "output_type": "stream",
     "text": [
      "<class 'pandas.core.frame.DataFrame'>\n",
      "Int64Index: 1000 entries, 0 to 999\n",
      "Data columns (total 49 columns):\n",
      "GoalingCumulativeRecordLosses            86 non-null float64\n",
      "GoalingCumulativeRecordOvertimeLosses    86 non-null float64\n",
      "GoalingCumulativeRecordWins              86 non-null float64\n",
      "GoalingGoalsAgainstEmptyNetAgainst       86 non-null float64\n",
      "GoalingGoalsAgainstTotalAgainst          86 non-null float64\n",
      "GoalingIsGameStarted                     86 non-null float64\n",
      "GoalingIsLosingGoaltender                86 non-null float64\n",
      "GoalingIsOTLossGoaltender                86 non-null float64\n",
      "GoalingIsShutout                         86 non-null float64\n",
      "GoalingIsWinningGoaltender               86 non-null float64\n",
      "GoalingSaves                             86 non-null float64\n",
      "GoalingShotsAgainst                      86 non-null float64\n",
      "GoalingTimePlayedMinutes                 86 non-null float64\n",
      "GoalingTimePlayedSeconds                 86 non-null float64\n",
      "PersonId                                 1000 non-null int64\n",
      "SkatingAssistsPowerPlay                  1000 non-null int64\n",
      "SkatingAssistsShortHanded                1000 non-null int64\n",
      "SkatingAssistsTotal                      1000 non-null int64\n",
      "SkatingBlocks                            1000 non-null int64\n",
      "SkatingCorsi                             288 non-null float64\n",
      "SkatingEvenStrengthTimeOnIceMinutes      1000 non-null int64\n",
      "SkatingEvenStrengthTimeOnIceSeconds      1000 non-null int64\n",
      "SkatingFaceoffsLost                      1000 non-null int64\n",
      "SkatingFaceoffsWon                       1000 non-null int64\n",
      "SkatingFenwick                           288 non-null float64\n",
      "SkatingGoalsEmptyNet                     1000 non-null int64\n",
      "SkatingGoalsGameWinning                  1000 non-null int64\n",
      "SkatingGoalsPowerPlay                    1000 non-null int64\n",
      "SkatingGoalsShortHanded                  1000 non-null int64\n",
      "SkatingGoalsTotal                        1000 non-null int64\n",
      "SkatingHits                              1000 non-null int64\n",
      "SkatingMissedShots                       306 non-null float64\n",
      "SkatingPenaltyMinutes                    1000 non-null int64\n",
      "SkatingPlusMinus                         1000 non-null int64\n",
      "SkatingPowerPlayTimeOnIceMinutes         1000 non-null int64\n",
      "SkatingPowerPlayTimeOnIceSeconds         1000 non-null int64\n",
      "SkatingShifts                            1000 non-null int64\n",
      "SkatingShootoutAttempts                  1000 non-null int64\n",
      "SkatingShootoutGoals                     1000 non-null int64\n",
      "SkatingShortHandedTimeOnIceMinutes       1000 non-null int64\n",
      "SkatingShortHandedTimeOnIceSeconds       1000 non-null int64\n",
      "SkatingShotsOnGoal                       1000 non-null int64\n",
      "SkatingTimeOnIceMinutes                  1000 non-null int64\n",
      "SkatingTimeOnIceSeconds                  1000 non-null int64\n",
      "SkatingTurnoversGiveaways                1000 non-null int64\n",
      "SkatingTurnoversTakeaways                1000 non-null int64\n",
      "SkatingZoneStartsDefensiveFaceoffs       288 non-null float64\n",
      "SkatingZoneStartsOffensiveFaceoffs       288 non-null float64\n",
      "SkatingZoneStartsPercentage              288 non-null float64\n",
      "dtypes: float64(20), int64(29)\n",
      "memory usage: 390.6 KB\n"
     ]
    }
   ],
   "source": [
    "players.info()"
   ]
  },
  {
   "cell_type": "code",
   "execution_count": 84,
   "metadata": {},
   "outputs": [
    {
     "data": {
      "text/html": [
       "<div>\n",
       "<style scoped>\n",
       "    .dataframe tbody tr th:only-of-type {\n",
       "        vertical-align: middle;\n",
       "    }\n",
       "\n",
       "    .dataframe tbody tr th {\n",
       "        vertical-align: top;\n",
       "    }\n",
       "\n",
       "    .dataframe thead th {\n",
       "        text-align: right;\n",
       "    }\n",
       "</style>\n",
       "<table border=\"1\" class=\"dataframe\">\n",
       "  <thead>\n",
       "    <tr style=\"text-align: right;\">\n",
       "      <th></th>\n",
       "      <th>GoalingCumulativeRecordLosses</th>\n",
       "      <th>GoalingCumulativeRecordOvertimeLosses</th>\n",
       "      <th>GoalingCumulativeRecordWins</th>\n",
       "      <th>GoalingGoalsAgainstEmptyNetAgainst</th>\n",
       "      <th>GoalingGoalsAgainstTotalAgainst</th>\n",
       "      <th>GoalingIsGameStarted</th>\n",
       "      <th>GoalingIsLosingGoaltender</th>\n",
       "      <th>GoalingIsOTLossGoaltender</th>\n",
       "      <th>GoalingIsShutout</th>\n",
       "      <th>GoalingIsWinningGoaltender</th>\n",
       "      <th>...</th>\n",
       "      <th>SkatingShortHandedTimeOnIceMinutes</th>\n",
       "      <th>SkatingShortHandedTimeOnIceSeconds</th>\n",
       "      <th>SkatingShotsOnGoal</th>\n",
       "      <th>SkatingTimeOnIceMinutes</th>\n",
       "      <th>SkatingTimeOnIceSeconds</th>\n",
       "      <th>SkatingTurnoversGiveaways</th>\n",
       "      <th>SkatingTurnoversTakeaways</th>\n",
       "      <th>SkatingZoneStartsDefensiveFaceoffs</th>\n",
       "      <th>SkatingZoneStartsOffensiveFaceoffs</th>\n",
       "      <th>SkatingZoneStartsPercentage</th>\n",
       "    </tr>\n",
       "  </thead>\n",
       "  <tbody>\n",
       "    <tr>\n",
       "      <th>0</th>\n",
       "      <td>NaN</td>\n",
       "      <td>NaN</td>\n",
       "      <td>NaN</td>\n",
       "      <td>NaN</td>\n",
       "      <td>NaN</td>\n",
       "      <td>NaN</td>\n",
       "      <td>NaN</td>\n",
       "      <td>NaN</td>\n",
       "      <td>NaN</td>\n",
       "      <td>NaN</td>\n",
       "      <td>...</td>\n",
       "      <td>1</td>\n",
       "      <td>22</td>\n",
       "      <td>1</td>\n",
       "      <td>25</td>\n",
       "      <td>34</td>\n",
       "      <td>1</td>\n",
       "      <td>0</td>\n",
       "      <td>9.0</td>\n",
       "      <td>14.0</td>\n",
       "      <td>60.87</td>\n",
       "    </tr>\n",
       "    <tr>\n",
       "      <th>1</th>\n",
       "      <td>NaN</td>\n",
       "      <td>NaN</td>\n",
       "      <td>NaN</td>\n",
       "      <td>NaN</td>\n",
       "      <td>NaN</td>\n",
       "      <td>NaN</td>\n",
       "      <td>NaN</td>\n",
       "      <td>NaN</td>\n",
       "      <td>NaN</td>\n",
       "      <td>NaN</td>\n",
       "      <td>...</td>\n",
       "      <td>0</td>\n",
       "      <td>0</td>\n",
       "      <td>0</td>\n",
       "      <td>14</td>\n",
       "      <td>17</td>\n",
       "      <td>0</td>\n",
       "      <td>0</td>\n",
       "      <td>0.0</td>\n",
       "      <td>8.0</td>\n",
       "      <td>100.00</td>\n",
       "    </tr>\n",
       "    <tr>\n",
       "      <th>2</th>\n",
       "      <td>NaN</td>\n",
       "      <td>NaN</td>\n",
       "      <td>NaN</td>\n",
       "      <td>NaN</td>\n",
       "      <td>NaN</td>\n",
       "      <td>NaN</td>\n",
       "      <td>NaN</td>\n",
       "      <td>NaN</td>\n",
       "      <td>NaN</td>\n",
       "      <td>NaN</td>\n",
       "      <td>...</td>\n",
       "      <td>2</td>\n",
       "      <td>1</td>\n",
       "      <td>0</td>\n",
       "      <td>19</td>\n",
       "      <td>42</td>\n",
       "      <td>0</td>\n",
       "      <td>0</td>\n",
       "      <td>10.0</td>\n",
       "      <td>6.0</td>\n",
       "      <td>37.50</td>\n",
       "    </tr>\n",
       "    <tr>\n",
       "      <th>3</th>\n",
       "      <td>NaN</td>\n",
       "      <td>NaN</td>\n",
       "      <td>NaN</td>\n",
       "      <td>NaN</td>\n",
       "      <td>NaN</td>\n",
       "      <td>NaN</td>\n",
       "      <td>NaN</td>\n",
       "      <td>NaN</td>\n",
       "      <td>NaN</td>\n",
       "      <td>NaN</td>\n",
       "      <td>...</td>\n",
       "      <td>1</td>\n",
       "      <td>43</td>\n",
       "      <td>1</td>\n",
       "      <td>13</td>\n",
       "      <td>6</td>\n",
       "      <td>0</td>\n",
       "      <td>0</td>\n",
       "      <td>4.0</td>\n",
       "      <td>3.0</td>\n",
       "      <td>42.86</td>\n",
       "    </tr>\n",
       "    <tr>\n",
       "      <th>4</th>\n",
       "      <td>NaN</td>\n",
       "      <td>NaN</td>\n",
       "      <td>NaN</td>\n",
       "      <td>NaN</td>\n",
       "      <td>NaN</td>\n",
       "      <td>NaN</td>\n",
       "      <td>NaN</td>\n",
       "      <td>NaN</td>\n",
       "      <td>NaN</td>\n",
       "      <td>NaN</td>\n",
       "      <td>...</td>\n",
       "      <td>2</td>\n",
       "      <td>7</td>\n",
       "      <td>1</td>\n",
       "      <td>14</td>\n",
       "      <td>22</td>\n",
       "      <td>0</td>\n",
       "      <td>1</td>\n",
       "      <td>7.0</td>\n",
       "      <td>5.0</td>\n",
       "      <td>41.67</td>\n",
       "    </tr>\n",
       "  </tbody>\n",
       "</table>\n",
       "<p>5 rows × 49 columns</p>\n",
       "</div>"
      ],
      "text/plain": [
       "   GoalingCumulativeRecordLosses  GoalingCumulativeRecordOvertimeLosses  \\\n",
       "0                            NaN                                    NaN   \n",
       "1                            NaN                                    NaN   \n",
       "2                            NaN                                    NaN   \n",
       "3                            NaN                                    NaN   \n",
       "4                            NaN                                    NaN   \n",
       "\n",
       "   GoalingCumulativeRecordWins  GoalingGoalsAgainstEmptyNetAgainst  \\\n",
       "0                          NaN                                 NaN   \n",
       "1                          NaN                                 NaN   \n",
       "2                          NaN                                 NaN   \n",
       "3                          NaN                                 NaN   \n",
       "4                          NaN                                 NaN   \n",
       "\n",
       "   GoalingGoalsAgainstTotalAgainst  GoalingIsGameStarted  \\\n",
       "0                              NaN                   NaN   \n",
       "1                              NaN                   NaN   \n",
       "2                              NaN                   NaN   \n",
       "3                              NaN                   NaN   \n",
       "4                              NaN                   NaN   \n",
       "\n",
       "   GoalingIsLosingGoaltender  GoalingIsOTLossGoaltender  GoalingIsShutout  \\\n",
       "0                        NaN                        NaN               NaN   \n",
       "1                        NaN                        NaN               NaN   \n",
       "2                        NaN                        NaN               NaN   \n",
       "3                        NaN                        NaN               NaN   \n",
       "4                        NaN                        NaN               NaN   \n",
       "\n",
       "   GoalingIsWinningGoaltender             ...               \\\n",
       "0                         NaN             ...                \n",
       "1                         NaN             ...                \n",
       "2                         NaN             ...                \n",
       "3                         NaN             ...                \n",
       "4                         NaN             ...                \n",
       "\n",
       "   SkatingShortHandedTimeOnIceMinutes  SkatingShortHandedTimeOnIceSeconds  \\\n",
       "0                                   1                                  22   \n",
       "1                                   0                                   0   \n",
       "2                                   2                                   1   \n",
       "3                                   1                                  43   \n",
       "4                                   2                                   7   \n",
       "\n",
       "   SkatingShotsOnGoal  SkatingTimeOnIceMinutes  SkatingTimeOnIceSeconds  \\\n",
       "0                   1                       25                       34   \n",
       "1                   0                       14                       17   \n",
       "2                   0                       19                       42   \n",
       "3                   1                       13                        6   \n",
       "4                   1                       14                       22   \n",
       "\n",
       "   SkatingTurnoversGiveaways  SkatingTurnoversTakeaways  \\\n",
       "0                          1                          0   \n",
       "1                          0                          0   \n",
       "2                          0                          0   \n",
       "3                          0                          0   \n",
       "4                          0                          1   \n",
       "\n",
       "   SkatingZoneStartsDefensiveFaceoffs  SkatingZoneStartsOffensiveFaceoffs  \\\n",
       "0                                 9.0                                14.0   \n",
       "1                                 0.0                                 8.0   \n",
       "2                                10.0                                 6.0   \n",
       "3                                 4.0                                 3.0   \n",
       "4                                 7.0                                 5.0   \n",
       "\n",
       "   SkatingZoneStartsPercentage  \n",
       "0                        60.87  \n",
       "1                       100.00  \n",
       "2                        37.50  \n",
       "3                        42.86  \n",
       "4                        41.67  \n",
       "\n",
       "[5 rows x 49 columns]"
      ]
     },
     "execution_count": 84,
     "metadata": {},
     "output_type": "execute_result"
    }
   ],
   "source": [
    "players.head()"
   ]
  },
  {
   "cell_type": "code",
   "execution_count": 127,
   "metadata": {},
   "outputs": [],
   "source": [
    "X = players[['SkatingTimeOnIceMinutes', 'SkatingShotsOnGoal' , 'SkatingPlusMinus', 'SkatingAssistsPowerPlay']]\n",
    "y = players['SkatingGoalsTotal']\n"
   ]
  },
  {
   "cell_type": "code",
   "execution_count": 128,
   "metadata": {},
   "outputs": [],
   "source": [
    "from sklearn.model_selection import train_test_split"
   ]
  },
  {
   "cell_type": "code",
   "execution_count": 129,
   "metadata": {},
   "outputs": [],
   "source": [
    "X_train, X_test, y_train, y_test = train_test_split(X, y, test_size=0.4, random_state=101)"
   ]
  },
  {
   "cell_type": "code",
   "execution_count": 130,
   "metadata": {},
   "outputs": [],
   "source": [
    "from sklearn.linear_model import LinearRegression"
   ]
  },
  {
   "cell_type": "code",
   "execution_count": 131,
   "metadata": {},
   "outputs": [],
   "source": [
    "\n",
    "\n",
    "lm = LinearRegression()\n",
    "\n"
   ]
  },
  {
   "cell_type": "code",
   "execution_count": 132,
   "metadata": {},
   "outputs": [
    {
     "data": {
      "text/plain": [
       "LinearRegression(copy_X=True, fit_intercept=True, n_jobs=1, normalize=False)"
      ]
     },
     "execution_count": 132,
     "metadata": {},
     "output_type": "execute_result"
    }
   ],
   "source": [
    "\n",
    "\n",
    "lm.fit(X_train,y_train)\n",
    "\n"
   ]
  },
  {
   "cell_type": "code",
   "execution_count": 133,
   "metadata": {},
   "outputs": [],
   "source": [
    "coeff_df = pd.DataFrame(lm.coef_,X.columns,columns=['Coefficient'])"
   ]
  },
  {
   "cell_type": "code",
   "execution_count": 134,
   "metadata": {},
   "outputs": [],
   "source": [
    "predictions = lm.predict(X_test)"
   ]
  },
  {
   "cell_type": "code",
   "execution_count": 135,
   "metadata": {},
   "outputs": [
    {
     "data": {
      "text/plain": [
       "<matplotlib.collections.PathCollection at 0x7f94991de090>"
      ]
     },
     "execution_count": 135,
     "metadata": {},
     "output_type": "execute_result"
    },
    {
     "data": {
      "image/png": "[encoded data removed]",
      "text/plain": [
       "<matplotlib.figure.Figure at 0x7f9499f00ad0>"
      ]
     },
     "metadata": {},
     "output_type": "display_data"
    }
   ],
   "source": [
    "plt.scatter(y_test,predictions)"
   ]
  },
  {
   "cell_type": "code",
   "execution_count": 136,
   "metadata": {},
   "outputs": [
    {
     "data": {
      "image/png": "[encoded data removed]",
      "text/plain": [
       "<matplotlib.figure.Figure at 0x7f9499711d90>"
      ]
     },
     "metadata": {},
     "output_type": "display_data"
    }
   ],
   "source": [
    "sns.distplot((y_test-predictions),bins=50);"
   ]
  },
  {
   "cell_type": "code",
   "execution_count": null,
   "metadata": {},
   "outputs": [],
   "source": []
  }
 ],
 "metadata": {
  "kernelspec": {
   "display_name": "Python 2",
   "language": "python",
   "name": "python2"
  },
  "language_info": {
   "codemirror_mode": {
    "name": "ipython",
    "version": 2
   },
   "file_extension": ".py",
   "mimetype": "text/x-python",
   "name": "python",
   "nbconvert_exporter": "python",
   "pygments_lexer": "ipython2",
   "version": "2.7.14+"
  }
 },
 "nbformat": 4,
 "nbformat_minor": 1
}
